{
 "cells": [
  {
   "cell_type": "code",
   "execution_count": 2,
   "metadata": {},
   "outputs": [],
   "source": [
    "import math\n",
    "import random\n",
    "import statistics\n",
    "import os\n",
    "import glob"
   ]
  },
  {
   "cell_type": "markdown",
   "metadata": {},
   "source": [
    "## Math"
   ]
  },
  {
   "cell_type": "code",
   "execution_count": 3,
   "metadata": {},
   "outputs": [
    {
     "name": "stdout",
     "output_type": "stream",
     "text": [
      "1.0\n",
      "148.4131591025766\n"
     ]
    }
   ],
   "source": [
    "print(math.cos(2*math.pi))\n",
    "print(math.exp(5))"
   ]
  },
  {
   "cell_type": "markdown",
   "metadata": {},
   "source": [
    "## Stats"
   ]
  },
  {
   "cell_type": "code",
   "execution_count": 5,
   "metadata": {},
   "outputs": [
    {
     "name": "stdout",
     "output_type": "stream",
     "text": [
      "5\n",
      "9.2\n"
     ]
    }
   ],
   "source": [
    "print(statistics.mean([2,6,5,7,1,9]))\n",
    "print(statistics.variance([2,6,5,7,1,9]))"
   ]
  },
  {
   "cell_type": "markdown",
   "metadata": {},
   "source": [
    "## Random"
   ]
  },
  {
   "cell_type": "code",
   "execution_count": 14,
   "metadata": {},
   "outputs": [
    {
     "name": "stdout",
     "output_type": "stream",
     "text": [
      "7\n"
     ]
    }
   ],
   "source": [
    "random.seed(0)\n",
    "print(random.choice([2,6,5,7,1,9]))"
   ]
  },
  {
   "cell_type": "code",
   "execution_count": 21,
   "metadata": {},
   "outputs": [
    {
     "name": "stdout",
     "output_type": "stream",
     "text": [
      "0.8916606598206824\n",
      "6\n",
      "32\n"
     ]
    }
   ],
   "source": [
    "print(random.random())\n",
    "print(random.randint(5,10))\n",
    "print(random.randrange(50))"
   ]
  },
  {
   "cell_type": "code",
   "execution_count": 25,
   "metadata": {},
   "outputs": [
    {
     "name": "stdout",
     "output_type": "stream",
     "text": [
      "[78, 81, 26, 70, 61]\n",
      "[56, 66, 33, 7, 70, 1, 11, 92, 51, 90]\n"
     ]
    }
   ],
   "source": [
    "print(random.sample(range(100),random.randrange(10)))\n",
    "print(random.sample(range(100),10)) "
   ]
  },
  {
   "cell_type": "code",
   "execution_count": 30,
   "metadata": {},
   "outputs": [
    {
     "name": "stdout",
     "output_type": "stream",
     "text": [
      "[4, 2, 6, 1, 3, 5]\n"
     ]
    }
   ],
   "source": [
    "liste = [1,2,3,4,5,6]\n",
    "random.shuffle(liste)\n",
    "print(liste)"
   ]
  },
  {
   "cell_type": "markdown",
   "metadata": {},
   "source": [
    "## OS"
   ]
  },
  {
   "cell_type": "code",
   "execution_count": 31,
   "metadata": {},
   "outputs": [
    {
     "data": {
      "text/plain": [
       "'C:\\\\Users\\\\Toufik\\\\Documents\\\\machiine learning'"
      ]
     },
     "execution_count": 31,
     "metadata": {},
     "output_type": "execute_result"
    }
   ],
   "source": [
    "os.getcwd()"
   ]
  },
  {
   "cell_type": "markdown",
   "metadata": {},
   "source": [
    "## GLOB"
   ]
  },
  {
   "cell_type": "code",
   "execution_count": 34,
   "metadata": {},
   "outputs": [
    {
     "name": "stdout",
     "output_type": "stream",
     "text": [
      "['exo_python.ipynb', 'fichier.txt', 'Machine Learning.docx', 'Regression lineaire multiple.ipynb', 'Regression lineaire.ipynb', 'Regression polynomiale.ipynb', 'Untitled.ipynb', '~$chine Learning.docx']\n",
      "['fichier.txt']\n"
     ]
    }
   ],
   "source": [
    "print(glob.glob('*')) #return la liste des noms des fichiers qu'on a dans le repetoire"
   ]
  },
  {
   "cell_type": "code",
   "execution_count": 36,
   "metadata": {},
   "outputs": [
    {
     "name": "stdout",
     "output_type": "stream",
     "text": [
      "0^2 = 0\n",
      "1^2 = 1\n",
      "2^2 = 4\n",
      "3^2 = 9\n",
      "4^2 = 16\n",
      "5^2 = 25\n",
      "6^2 = 36\n",
      "7^2 = 49\n",
      "8^2 = 64\n",
      "9^2 = 81\n",
      "\n"
     ]
    }
   ],
   "source": [
    "filenames = glob.glob('*.txt')\n",
    "\n",
    "for file in filenames:\n",
    "    with open(file, 'r') as f:\n",
    "        print(f.read())"
   ]
  },
  {
   "cell_type": "markdown",
   "metadata": {},
   "source": [
    "## Exercice"
   ]
  },
  {
   "cell_type": "code",
   "execution_count": 37,
   "metadata": {},
   "outputs": [
    {
     "name": "stdout",
     "output_type": "stream",
     "text": [
      "{'fichier.txt': '0^2 = 0\\n1^2 = 1\\n2^2 = 4\\n3^2 = 9\\n4^2 = 16\\n5^2 = 25\\n6^2 = 36\\n7^2 = 49\\n8^2 = 64\\n9^2 = 81\\n'}\n"
     ]
    }
   ],
   "source": [
    "filenames_2 = glob.glob('*.txt')\n",
    "dic_files = {}\n",
    "\n",
    "for file in filenames_2:\n",
    "    with open(file,'r') as f:\n",
    "        dic_files[str(file)] = f.read()\n",
    "        \n",
    "print(dic_files)"
   ]
  },
  {
   "cell_type": "code",
   "execution_count": null,
   "metadata": {},
   "outputs": [],
   "source": []
  }
 ],
 "metadata": {
  "kernelspec": {
   "display_name": "Python 3",
   "language": "python",
   "name": "python3"
  },
  "language_info": {
   "codemirror_mode": {
    "name": "ipython",
    "version": 3
   },
   "file_extension": ".py",
   "mimetype": "text/x-python",
   "name": "python",
   "nbconvert_exporter": "python",
   "pygments_lexer": "ipython3",
   "version": "3.8.5"
  }
 },
 "nbformat": 4,
 "nbformat_minor": 4
}
