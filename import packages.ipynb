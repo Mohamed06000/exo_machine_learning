{
 "cells": [
  {
   "cell_type": "code",
   "execution_count": 2,
   "metadata": {},
   "outputs": [],
   "source": [
    "import math\n",
    "import random\n",
    "import statistics\n",
    "import os\n",
    "import glob"
   ]
  },
  {
   "cell_type": "markdown",
   "metadata": {},
   "source": [
    "## Math"
   ]
  },
  {
   "cell_type": "code",
   "execution_count": 3,
   "metadata": {},
   "outputs": [
    {
     "name": "stdout",
     "output_type": "stream",
     "text": [
      "1.0\n",
      "148.4131591025766\n"
     ]
    }
   ],
   "source": [
    "print(math.cos(2*math.pi))\n",
    "print(math.exp(5))"
   ]
  },
  {
   "cell_type": "markdown",
   "metadata": {},
   "source": [
    "## Stats"
   ]
  },
  {
   "cell_type": "code",
   "execution_count": 4,
   "metadata": {},
   "outputs": [
    {
     "name": "stdout",
     "output_type": "stream",
     "text": [
      "5\n",
      "9.2\n"
     ]
    }
   ],
   "source": [
    "print(statistics.mean([2,6,5,7,1,9]))\n",
    "print(statistics.variance([2,6,5,7,1,9]))"
   ]
  },
  {
   "cell_type": "markdown",
   "metadata": {},
   "source": [
    "## Random"
   ]
  },
  {
   "cell_type": "code",
   "execution_count": 5,
   "metadata": {},
   "outputs": [
    {
     "name": "stdout",
     "output_type": "stream",
     "text": [
      "7\n"
     ]
    }
   ],
   "source": [
    "random.seed(0)\n",
    "print(random.choice([2,6,5,7,1,9]))"
   ]
  },
  {
   "cell_type": "code",
   "execution_count": 6,
   "metadata": {},
   "outputs": [
    {
     "name": "stdout",
     "output_type": "stream",
     "text": [
      "0.7579544029403025\n",
      "8\n",
      "2\n"
     ]
    }
   ],
   "source": [
    "print(random.random())\n",
    "print(random.randint(5,10))\n",
    "print(random.randrange(50))"
   ]
  },
  {
   "cell_type": "code",
   "execution_count": 7,
   "metadata": {},
   "outputs": [
    {
     "name": "stdout",
     "output_type": "stream",
     "text": [
      "[65, 62, 51, 38]\n",
      "[61, 45, 74, 27, 64, 17, 36, 96, 12, 79]\n"
     ]
    }
   ],
   "source": [
    "print(random.sample(range(100),random.randrange(10)))\n",
    "print(random.sample(range(100),10)) "
   ]
  },
  {
   "cell_type": "code",
   "execution_count": 8,
   "metadata": {},
   "outputs": [
    {
     "name": "stdout",
     "output_type": "stream",
     "text": [
      "[6, 1, 4, 2, 5, 3]\n"
     ]
    }
   ],
   "source": [
    "liste = [1,2,3,4,5,6]\n",
    "random.shuffle(liste)\n",
    "print(liste)"
   ]
  },
  {
   "cell_type": "markdown",
   "metadata": {},
   "source": [
    "## OS"
   ]
  },
  {
   "cell_type": "code",
   "execution_count": 9,
   "metadata": {},
   "outputs": [
    {
     "data": {
      "text/plain": [
       "'C:\\\\Users\\\\Toufik\\\\Documents\\\\machiine learning'"
      ]
     },
     "execution_count": 9,
     "metadata": {},
     "output_type": "execute_result"
    }
   ],
   "source": [
    "os.getcwd()"
   ]
  },
  {
   "cell_type": "markdown",
   "metadata": {},
   "source": [
    "## GLOB"
   ]
  },
  {
   "cell_type": "code",
   "execution_count": 10,
   "metadata": {},
   "outputs": [
    {
     "name": "stdout",
     "output_type": "stream",
     "text": [
      "['exo_python.ipynb', 'fichier.txt', 'import packages.ipynb', 'Machine Learning.docx', 'P.O.O.ipynb', 'Regression lineaire multiple.ipynb', 'Regression lineaire.ipynb', 'Regression polynomiale.ipynb', '~$chine Learning.docx']\n"
     ]
    }
   ],
   "source": [
    "print(glob.glob('*')) #return la liste des noms des fichiers qu'on a dans le repetoire"
   ]
  },
  {
   "cell_type": "code",
   "execution_count": 11,
   "metadata": {},
   "outputs": [
    {
     "name": "stdout",
     "output_type": "stream",
     "text": [
      "0^2 = 0\n",
      "1^2 = 1\n",
      "2^2 = 4\n",
      "3^2 = 9\n",
      "4^2 = 16\n",
      "5^2 = 25\n",
      "6^2 = 36\n",
      "7^2 = 49\n",
      "8^2 = 64\n",
      "9^2 = 81\n",
      "\n"
     ]
    }
   ],
   "source": [
    "filenames = glob.glob('*.txt')\n",
    "\n",
    "for file in filenames:\n",
    "    with open(file, 'r') as f:\n",
    "        print(f.read())"
   ]
  },
  {
   "cell_type": "markdown",
   "metadata": {},
   "source": [
    "## Exercice"
   ]
  },
  {
   "cell_type": "code",
   "execution_count": 12,
   "metadata": {},
   "outputs": [
    {
     "name": "stdout",
     "output_type": "stream",
     "text": [
      "{'fichier.txt': ['0^2 = 0', '1^2 = 1', '2^2 = 4', '3^2 = 9', '4^2 = 16', '5^2 = 25', '6^2 = 36', '7^2 = 49', '8^2 = 64', '9^2 = 81']}\n"
     ]
    }
   ],
   "source": [
    "filenames_2 = glob.glob('*.txt')\n",
    "dic_files = {}\n",
    "\n",
    "for file in filenames_2:\n",
    "    with open(file,'r') as f:\n",
    "        dic_files[str(file)] = f.read().splitlines()\n",
    "        \n",
    "print(dic_files)"
   ]
  },
  {
   "cell_type": "code",
   "execution_count": null,
   "metadata": {},
   "outputs": [],
   "source": []
  }
 ],
 "metadata": {
  "kernelspec": {
   "display_name": "Python 3",
   "language": "python",
   "name": "python3"
  },
  "language_info": {
   "codemirror_mode": {
    "name": "ipython",
    "version": 3
   },
   "file_extension": ".py",
   "mimetype": "text/x-python",
   "name": "python",
   "nbconvert_exporter": "python",
   "pygments_lexer": "ipython3",
   "version": "3.8.5"
  }
 },
 "nbformat": 4,
 "nbformat_minor": 4
}
