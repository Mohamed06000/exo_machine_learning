{
 "cells": [
  {
   "cell_type": "code",
   "execution_count": 101,
   "metadata": {},
   "outputs": [],
   "source": [
    "import numpy as np\n",
    "import matplotlib.pyplot as plt\n",
    "import pandas as pd\n",
    "import seaborn as sns"
   ]
  },
  {
   "cell_type": "code",
   "execution_count": 108,
   "metadata": {},
   "outputs": [],
   "source": [
    "births = pd.read_csv('https://raw.githubusercontent.com/jakevdp/data-CDCbirths/master/births.csv')"
   ]
  },
  {
   "cell_type": "code",
   "execution_count": 109,
   "metadata": {},
   "outputs": [
    {
     "data": {
      "text/html": [
       "<div>\n",
       "<style scoped>\n",
       "    .dataframe tbody tr th:only-of-type {\n",
       "        vertical-align: middle;\n",
       "    }\n",
       "\n",
       "    .dataframe tbody tr th {\n",
       "        vertical-align: top;\n",
       "    }\n",
       "\n",
       "    .dataframe thead th {\n",
       "        text-align: right;\n",
       "    }\n",
       "</style>\n",
       "<table border=\"1\" class=\"dataframe\">\n",
       "  <thead>\n",
       "    <tr style=\"text-align: right;\">\n",
       "      <th></th>\n",
       "      <th>year</th>\n",
       "      <th>month</th>\n",
       "      <th>day</th>\n",
       "      <th>gender</th>\n",
       "      <th>births</th>\n",
       "    </tr>\n",
       "  </thead>\n",
       "  <tbody>\n",
       "    <tr>\n",
       "      <th>0</th>\n",
       "      <td>1969</td>\n",
       "      <td>1</td>\n",
       "      <td>1.0</td>\n",
       "      <td>F</td>\n",
       "      <td>4046</td>\n",
       "    </tr>\n",
       "    <tr>\n",
       "      <th>1</th>\n",
       "      <td>1969</td>\n",
       "      <td>1</td>\n",
       "      <td>1.0</td>\n",
       "      <td>M</td>\n",
       "      <td>4440</td>\n",
       "    </tr>\n",
       "    <tr>\n",
       "      <th>2</th>\n",
       "      <td>1969</td>\n",
       "      <td>1</td>\n",
       "      <td>2.0</td>\n",
       "      <td>F</td>\n",
       "      <td>4454</td>\n",
       "    </tr>\n",
       "    <tr>\n",
       "      <th>3</th>\n",
       "      <td>1969</td>\n",
       "      <td>1</td>\n",
       "      <td>2.0</td>\n",
       "      <td>M</td>\n",
       "      <td>4548</td>\n",
       "    </tr>\n",
       "    <tr>\n",
       "      <th>4</th>\n",
       "      <td>1969</td>\n",
       "      <td>1</td>\n",
       "      <td>3.0</td>\n",
       "      <td>F</td>\n",
       "      <td>4548</td>\n",
       "    </tr>\n",
       "  </tbody>\n",
       "</table>\n",
       "</div>"
      ],
      "text/plain": [
       "   year  month  day gender  births\n",
       "0  1969      1  1.0      F    4046\n",
       "1  1969      1  1.0      M    4440\n",
       "2  1969      1  2.0      F    4454\n",
       "3  1969      1  2.0      M    4548\n",
       "4  1969      1  3.0      F    4548"
      ]
     },
     "execution_count": 109,
     "metadata": {},
     "output_type": "execute_result"
    }
   ],
   "source": [
    "births.head()"
   ]
  },
  {
   "cell_type": "code",
   "execution_count": 110,
   "metadata": {},
   "outputs": [
    {
     "data": {
      "text/plain": [
       "(15547, 5)"
      ]
     },
     "execution_count": 110,
     "metadata": {},
     "output_type": "execute_result"
    }
   ],
   "source": [
    "births.shape"
   ]
  },
  {
   "cell_type": "code",
   "execution_count": 113,
   "metadata": {},
   "outputs": [
    {
     "data": {
      "text/plain": [
       "(14717, 5)"
      ]
     },
     "execution_count": 113,
     "metadata": {},
     "output_type": "execute_result"
    }
   ],
   "source": [
    "births[births['day'] == 99.0] = np.nan\n",
    "births = births.dropna(axis=0)\n",
    "births.shape"
   ]
  },
  {
   "cell_type": "code",
   "execution_count": 114,
   "metadata": {},
   "outputs": [],
   "source": [
    "for field in ['day', 'month', 'year']:\n",
    "    births[field] = births[field].astype(int)"
   ]
  },
  {
   "cell_type": "code",
   "execution_count": 117,
   "metadata": {},
   "outputs": [],
   "source": [
    "#births.index = pd.to_datetime(10000 * births.year + \n",
    "                              #100 * births.month +\n",
    "                              #births.day, format='%Y%m%d')"
   ]
  },
  {
   "cell_type": "code",
   "execution_count": 118,
   "metadata": {},
   "outputs": [
    {
     "name": "stderr",
     "output_type": "stream",
     "text": [
      "<ipython-input-118-b184f63f8257>:3: UserWarning: FixedFormatter should only be used together with FixedLocator\n",
      "  plt.gca().set_xticklabels(['Mon', 'Tue', 'Wed', 'Thu', 'Fri', 'Sat', 'Sun'])\n"
     ]
    },
    {
     "data": {
      "text/plain": [
       "Text(0, 0.5, 'Births per day')"
      ]
     },
     "execution_count": 118,
     "metadata": {},
     "output_type": "execute_result"
    },
    {
     "data": {
      "image/png": "[encoded data removed]",
      "text/plain": [
       "<Figure size 864x576 with 1 Axes>"
      ]
     },
     "metadata": {
      "needs_background": "light"
     },
     "output_type": "display_data"
    }
   ],
   "source": [
    "year = pd.cut(births['year'], [1960, 1970, 1980, 1990])\n",
    "births.pivot_table('births', index='day', columns=year, aggfunc='sum').plot(figsize=(12,8))\n",
    "plt.gca().set_xticklabels(['Mon', 'Tue', 'Wed', 'Thu', 'Fri', 'Sat', 'Sun'])\n",
    "plt.ylabel('Births per day')"
   ]
  },
  {
   "cell_type": "code",
   "execution_count": 119,
   "metadata": {
    "scrolled": true
   },
   "outputs": [
    {
     "name": "stderr",
     "output_type": "stream",
     "text": [
      "<ipython-input-119-4576d7626744>:3: UserWarning: FixedFormatter should only be used together with FixedLocator\n",
      "  plt.gca().set_xticklabels(['Mon', 'Tue', 'Wed', 'Thu', 'Fri', 'Sat', 'Sun'])\n"
     ]
    },
    {
     "data": {
      "text/plain": [
       "Text(0, 0.5, 'Births per day')"
      ]
     },
     "execution_count": 119,
     "metadata": {},
     "output_type": "execute_result"
    },
    {
     "data": {
      "image/png": "[encoded data removed]",
      "text/plain": [
       "<Figure size 864x576 with 1 Axes>"
      ]
     },
     "metadata": {
      "needs_background": "light"
     },
     "output_type": "display_data"
    }
   ],
   "source": [
    "year = pd.cut(births['year'], [1960, 1970, 1980, 1990])\n",
    "births.pivot_table('births', index='day', columns=year, aggfunc='mean').plot(figsize=(12,8))\n",
    "plt.gca().set_xticklabels(['Mon', 'Tue', 'Wed', 'Thu', 'Fri', 'Sat', 'Sun'])\n",
    "plt.ylabel('Births per day')"
   ]
  },
  {
   "cell_type": "code",
   "execution_count": 82,
   "metadata": {
    "scrolled": true
   },
   "outputs": [
    {
     "data": {
      "text/html": [
       "<div>\n",
       "<style scoped>\n",
       "    .dataframe tbody tr th:only-of-type {\n",
       "        vertical-align: middle;\n",
       "    }\n",
       "\n",
       "    .dataframe tbody tr th {\n",
       "        vertical-align: top;\n",
       "    }\n",
       "\n",
       "    .dataframe thead th {\n",
       "        text-align: right;\n",
       "    }\n",
       "</style>\n",
       "<table border=\"1\" class=\"dataframe\">\n",
       "  <thead>\n",
       "    <tr style=\"text-align: right;\">\n",
       "      <th></th>\n",
       "      <th>year</th>\n",
       "      <th>month</th>\n",
       "      <th>day</th>\n",
       "      <th>gender</th>\n",
       "      <th>births</th>\n",
       "    </tr>\n",
       "  </thead>\n",
       "  <tbody>\n",
       "    <tr>\n",
       "      <th>0</th>\n",
       "      <td>1970-01-01 00:00:00.000001969</td>\n",
       "      <td>1970-01-01 00:00:00.000000001</td>\n",
       "      <td>1970-01-01 00:00:00.000000001</td>\n",
       "      <td>F</td>\n",
       "      <td>4046.0</td>\n",
       "    </tr>\n",
       "    <tr>\n",
       "      <th>1</th>\n",
       "      <td>1970-01-01 00:00:00.000001969</td>\n",
       "      <td>1970-01-01 00:00:00.000000001</td>\n",
       "      <td>1970-01-01 00:00:00.000000001</td>\n",
       "      <td>M</td>\n",
       "      <td>4440.0</td>\n",
       "    </tr>\n",
       "    <tr>\n",
       "      <th>2</th>\n",
       "      <td>1970-01-01 00:00:00.000001969</td>\n",
       "      <td>1970-01-01 00:00:00.000000001</td>\n",
       "      <td>1970-01-01 00:00:00.000000002</td>\n",
       "      <td>F</td>\n",
       "      <td>4454.0</td>\n",
       "    </tr>\n",
       "    <tr>\n",
       "      <th>3</th>\n",
       "      <td>1970-01-01 00:00:00.000001969</td>\n",
       "      <td>1970-01-01 00:00:00.000000001</td>\n",
       "      <td>1970-01-01 00:00:00.000000002</td>\n",
       "      <td>M</td>\n",
       "      <td>4548.0</td>\n",
       "    </tr>\n",
       "    <tr>\n",
       "      <th>4</th>\n",
       "      <td>1970-01-01 00:00:00.000001969</td>\n",
       "      <td>1970-01-01 00:00:00.000000001</td>\n",
       "      <td>1970-01-01 00:00:00.000000003</td>\n",
       "      <td>F</td>\n",
       "      <td>4548.0</td>\n",
       "    </tr>\n",
       "    <tr>\n",
       "      <th>...</th>\n",
       "      <td>...</td>\n",
       "      <td>...</td>\n",
       "      <td>...</td>\n",
       "      <td>...</td>\n",
       "      <td>...</td>\n",
       "    </tr>\n",
       "    <tr>\n",
       "      <th>15062</th>\n",
       "      <td>1970-01-01 00:00:00.000001988</td>\n",
       "      <td>1970-01-01 00:00:00.000000012</td>\n",
       "      <td>1970-01-01 00:00:00.000000029</td>\n",
       "      <td>M</td>\n",
       "      <td>5944.0</td>\n",
       "    </tr>\n",
       "    <tr>\n",
       "      <th>15063</th>\n",
       "      <td>1970-01-01 00:00:00.000001988</td>\n",
       "      <td>1970-01-01 00:00:00.000000012</td>\n",
       "      <td>1970-01-01 00:00:00.000000030</td>\n",
       "      <td>F</td>\n",
       "      <td>5742.0</td>\n",
       "    </tr>\n",
       "    <tr>\n",
       "      <th>15064</th>\n",
       "      <td>1970-01-01 00:00:00.000001988</td>\n",
       "      <td>1970-01-01 00:00:00.000000012</td>\n",
       "      <td>1970-01-01 00:00:00.000000030</td>\n",
       "      <td>M</td>\n",
       "      <td>6095.0</td>\n",
       "    </tr>\n",
       "    <tr>\n",
       "      <th>15065</th>\n",
       "      <td>1970-01-01 00:00:00.000001988</td>\n",
       "      <td>1970-01-01 00:00:00.000000012</td>\n",
       "      <td>1970-01-01 00:00:00.000000031</td>\n",
       "      <td>F</td>\n",
       "      <td>4435.0</td>\n",
       "    </tr>\n",
       "    <tr>\n",
       "      <th>15066</th>\n",
       "      <td>1970-01-01 00:00:00.000001988</td>\n",
       "      <td>1970-01-01 00:00:00.000000012</td>\n",
       "      <td>1970-01-01 00:00:00.000000031</td>\n",
       "      <td>M</td>\n",
       "      <td>4698.0</td>\n",
       "    </tr>\n",
       "  </tbody>\n",
       "</table>\n",
       "<p>14717 rows × 5 columns</p>\n",
       "</div>"
      ],
      "text/plain": [
       "                               year                         month  \\\n",
       "0     1970-01-01 00:00:00.000001969 1970-01-01 00:00:00.000000001   \n",
       "1     1970-01-01 00:00:00.000001969 1970-01-01 00:00:00.000000001   \n",
       "2     1970-01-01 00:00:00.000001969 1970-01-01 00:00:00.000000001   \n",
       "3     1970-01-01 00:00:00.000001969 1970-01-01 00:00:00.000000001   \n",
       "4     1970-01-01 00:00:00.000001969 1970-01-01 00:00:00.000000001   \n",
       "...                             ...                           ...   \n",
       "15062 1970-01-01 00:00:00.000001988 1970-01-01 00:00:00.000000012   \n",
       "15063 1970-01-01 00:00:00.000001988 1970-01-01 00:00:00.000000012   \n",
       "15064 1970-01-01 00:00:00.000001988 1970-01-01 00:00:00.000000012   \n",
       "15065 1970-01-01 00:00:00.000001988 1970-01-01 00:00:00.000000012   \n",
       "15066 1970-01-01 00:00:00.000001988 1970-01-01 00:00:00.000000012   \n",
       "\n",
       "                                day gender  births  \n",
       "0     1970-01-01 00:00:00.000000001      F  4046.0  \n",
       "1     1970-01-01 00:00:00.000000001      M  4440.0  \n",
       "2     1970-01-01 00:00:00.000000002      F  4454.0  \n",
       "3     1970-01-01 00:00:00.000000002      M  4548.0  \n",
       "4     1970-01-01 00:00:00.000000003      F  4548.0  \n",
       "...                             ...    ...     ...  \n",
       "15062 1970-01-01 00:00:00.000000029      M  5944.0  \n",
       "15063 1970-01-01 00:00:00.000000030      F  5742.0  \n",
       "15064 1970-01-01 00:00:00.000000030      M  6095.0  \n",
       "15065 1970-01-01 00:00:00.000000031      F  4435.0  \n",
       "15066 1970-01-01 00:00:00.000000031      M  4698.0  \n",
       "\n",
       "[14717 rows x 5 columns]"
      ]
     },
     "execution_count": 82,
     "metadata": {},
     "output_type": "execute_result"
    }
   ],
   "source": [
    "births[[\"yar\", \"month\", \"day\"]] = births[[\"year\", \"month\", \"day\"]].apply(pd.to_datetime)\n",
    "births"
   ]
  },
  {
   "cell_type": "code",
   "execution_count": null,
   "metadata": {},
   "outputs": [],
   "source": []
  }
 ],
 "metadata": {
  "kernelspec": {
   "display_name": "Python 3",
   "language": "python",
   "name": "python3"
  },
  "language_info": {
   "codemirror_mode": {
    "name": "ipython",
    "version": 3
   },
   "file_extension": ".py",
   "mimetype": "text/x-python",
   "name": "python",
   "nbconvert_exporter": "python",
   "pygments_lexer": "ipython3",
   "version": "3.8.5"
  }
 },
 "nbformat": 4,
 "nbformat_minor": 4
}
